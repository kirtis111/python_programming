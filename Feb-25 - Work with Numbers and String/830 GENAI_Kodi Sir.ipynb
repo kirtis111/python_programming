{
 "cells": [
  {
   "cell_type": "markdown",
   "id": "f01e1591-fc99-4bd9-8706-13923363dd59",
   "metadata": {},
   "source": [
    "# 8:30 AM -- BASIC PYTHON PROGRAMMING TODAY"
   ]
  },
  {
   "cell_type": "code",
   "execution_count": 1,
   "id": "3eed7781-36af-4193-a7a6-ea75c9435c6a",
   "metadata": {},
   "outputs": [
    {
     "data": {
      "text/plain": [
       "'3.11.7 | packaged by Anaconda, Inc. | (main, Dec 15 2023, 18:05:47) [MSC v.1916 64 bit (AMD64)]'"
      ]
     },
     "execution_count": 1,
     "metadata": {},
     "output_type": "execute_result"
    }
   ],
   "source": [
    "import sys\n",
    "sys.version"
   ]
  },
  {
   "cell_type": "markdown",
   "id": "cda7bce3-b074-4571-b830-746cef0437c4",
   "metadata": {},
   "source": [
    "# work with numbers"
   ]
  },
  {
   "cell_type": "code",
   "execution_count": 4,
   "id": "fc35d125-fae8-4cde-93a1-c8560e15ac5b",
   "metadata": {},
   "outputs": [
    {
     "data": {
      "text/plain": [
       "3"
      ]
     },
     "execution_count": 4,
     "metadata": {},
     "output_type": "execute_result"
    }
   ],
   "source": [
    "3"
   ]
  },
  {
   "cell_type": "code",
   "execution_count": 5,
   "id": "6df6ae90-6140-4a4f-af5c-b1c1c5b176a4",
   "metadata": {},
   "outputs": [
    {
     "data": {
      "text/plain": [
       "2"
      ]
     },
     "execution_count": 5,
     "metadata": {},
     "output_type": "execute_result"
    }
   ],
   "source": [
    "2"
   ]
  },
  {
   "cell_type": "code",
   "execution_count": 2,
   "id": "0f5866bb-96fb-43ab-8e4f-e047a10c614f",
   "metadata": {},
   "outputs": [
    {
     "data": {
      "text/plain": [
       "5"
      ]
     },
     "execution_count": 2,
     "metadata": {},
     "output_type": "execute_result"
    }
   ],
   "source": [
    "3 + 2"
   ]
  },
  {
   "cell_type": "code",
   "execution_count": 6,
   "id": "12cdba92-fe1f-485b-aa0a-3343763b221a",
   "metadata": {},
   "outputs": [
    {
     "data": {
      "text/plain": [
       "1"
      ]
     },
     "execution_count": 6,
     "metadata": {},
     "output_type": "execute_result"
    }
   ],
   "source": [
    "3 - 2"
   ]
  },
  {
   "cell_type": "code",
   "execution_count": 7,
   "id": "46911a8f-311e-482f-a4e6-d620f3c49059",
   "metadata": {},
   "outputs": [
    {
     "data": {
      "text/plain": [
       "6"
      ]
     },
     "execution_count": 7,
     "metadata": {},
     "output_type": "execute_result"
    }
   ],
   "source": [
    "3 * 2"
   ]
  },
  {
   "cell_type": "code",
   "execution_count": 8,
   "id": "9a177f32-5bea-4cbd-827a-f4df286e4b80",
   "metadata": {},
   "outputs": [
    {
     "data": {
      "text/plain": [
       "9"
      ]
     },
     "execution_count": 8,
     "metadata": {},
     "output_type": "execute_result"
    }
   ],
   "source": [
    "3 ** 2"
   ]
  },
  {
   "cell_type": "code",
   "execution_count": 9,
   "id": "18b005a2-234a-4c27-94ae-34ddf9d5bd00",
   "metadata": {},
   "outputs": [
    {
     "data": {
      "text/plain": [
       "2.0"
      ]
     },
     "execution_count": 9,
     "metadata": {},
     "output_type": "execute_result"
    }
   ],
   "source": [
    "10 / 5"
   ]
  },
  {
   "cell_type": "code",
   "execution_count": 10,
   "id": "580a690c-f75e-4454-92a4-59f0d6a06edd",
   "metadata": {},
   "outputs": [
    {
     "data": {
      "text/plain": [
       "2"
      ]
     },
     "execution_count": 10,
     "metadata": {},
     "output_type": "execute_result"
    }
   ],
   "source": [
    "10 // 5"
   ]
  },
  {
   "cell_type": "code",
   "execution_count": 11,
   "id": "6546b828-e7e0-42f3-b5b3-2cdb719ee76c",
   "metadata": {},
   "outputs": [],
   "source": [
    "# work with string "
   ]
  },
  {
   "cell_type": "code",
   "execution_count": 12,
   "id": "fef32b5d-dba4-4e6d-84be-08a04d5a41c9",
   "metadata": {},
   "outputs": [
    {
     "ename": "NameError",
     "evalue": "name 'nareshit' is not defined",
     "output_type": "error",
     "traceback": [
      "\u001b[1;31m---------------------------------------------------------------------------\u001b[0m",
      "\u001b[1;31mNameError\u001b[0m                                 Traceback (most recent call last)",
      "Cell \u001b[1;32mIn[12], line 1\u001b[0m\n\u001b[1;32m----> 1\u001b[0m nareshit\n",
      "\u001b[1;31mNameError\u001b[0m: name 'nareshit' is not defined"
     ]
    }
   ],
   "source": [
    "nareshit"
   ]
  },
  {
   "cell_type": "code",
   "execution_count": 13,
   "id": "9db3a8a9-af2a-4040-ae25-2b46ab4dfc8f",
   "metadata": {},
   "outputs": [
    {
     "data": {
      "text/plain": [
       "'nareshit'"
      ]
     },
     "execution_count": 13,
     "metadata": {},
     "output_type": "execute_result"
    }
   ],
   "source": [
    "'nareshit'"
   ]
  },
  {
   "cell_type": "code",
   "execution_count": 14,
   "id": "b45ec2d0-2aff-4d56-8eda-147e2a1f78fc",
   "metadata": {},
   "outputs": [
    {
     "data": {
      "text/plain": [
       "' nareshit '"
      ]
     },
     "execution_count": 14,
     "metadata": {},
     "output_type": "execute_result"
    }
   ],
   "source": [
    "\" nareshit \""
   ]
  },
  {
   "cell_type": "code",
   "execution_count": 15,
   "id": "76631a1e-7646-4db7-a7d7-bdb9c9a42712",
   "metadata": {},
   "outputs": [
    {
     "data": {
      "text/plain": [
       "' naresh it '"
      ]
     },
     "execution_count": 15,
     "metadata": {},
     "output_type": "execute_result"
    }
   ],
   "source": [
    "''' naresh it '''"
   ]
  },
  {
   "cell_type": "markdown",
   "id": "d7dda27f-ecd7-4c23-8e22-1cd46d96c7ae",
   "metadata": {},
   "source": [
    "# variable = object "
   ]
  },
  {
   "cell_type": "code",
   "execution_count": 16,
   "id": "a5b543dc-9619-423b-b258-a27900c5e6dc",
   "metadata": {},
   "outputs": [
    {
     "data": {
      "text/plain": [
       "5"
      ]
     },
     "execution_count": 16,
     "metadata": {},
     "output_type": "execute_result"
    }
   ],
   "source": [
    "v = 5 #v - variable & 5 for value \n",
    "v"
   ]
  },
  {
   "cell_type": "code",
   "execution_count": 17,
   "id": "1cbf51ef-0b1f-4569-85fc-baa527a51871",
   "metadata": {},
   "outputs": [
    {
     "data": {
      "text/plain": [
       "int"
      ]
     },
     "execution_count": 17,
     "metadata": {},
     "output_type": "execute_result"
    }
   ],
   "source": [
    "type(v)"
   ]
  },
  {
   "cell_type": "code",
   "execution_count": 19,
   "id": "335f63fa-20dd-46b4-87b7-86b04b0df483",
   "metadata": {},
   "outputs": [
    {
     "ename": "NameError",
     "evalue": "name 'v2' is not defined",
     "output_type": "error",
     "traceback": [
      "\u001b[1;31m---------------------------------------------------------------------------\u001b[0m",
      "\u001b[1;31mNameError\u001b[0m                                 Traceback (most recent call last)",
      "Cell \u001b[1;32mIn[19], line 2\u001b[0m\n\u001b[0;32m      1\u001b[0m v1 \u001b[38;5;241m=\u001b[39m \u001b[38;5;124m'\u001b[39m\u001b[38;5;124mnit\u001b[39m\u001b[38;5;124m'\u001b[39m\n\u001b[1;32m----> 2\u001b[0m v2\n",
      "\u001b[1;31mNameError\u001b[0m: name 'v2' is not defined"
     ]
    }
   ],
   "source": [
    "v1 = 'nit'\n",
    "v2"
   ]
  },
  {
   "cell_type": "code",
   "execution_count": 20,
   "id": "c99501b1-8493-4aa4-b720-ab7b0e41375b",
   "metadata": {},
   "outputs": [
    {
     "data": {
      "text/plain": [
       "'nit'"
      ]
     },
     "execution_count": 20,
     "metadata": {},
     "output_type": "execute_result"
    }
   ],
   "source": [
    "v1"
   ]
  },
  {
   "cell_type": "code",
   "execution_count": null,
   "id": "a2eee13d-aa49-4d11-b814-213e2f75e888",
   "metadata": {},
   "outputs": [],
   "source": []
  }
 ],
 "metadata": {
  "kernelspec": {
   "display_name": "Python 3 (ipykernel)",
   "language": "python",
   "name": "python3"
  },
  "language_info": {
   "codemirror_mode": {
    "name": "ipython",
    "version": 3
   },
   "file_extension": ".py",
   "mimetype": "text/x-python",
   "name": "python",
   "nbconvert_exporter": "python",
   "pygments_lexer": "ipython3",
   "version": "3.11.7"
  }
 },
 "nbformat": 4,
 "nbformat_minor": 5
}
