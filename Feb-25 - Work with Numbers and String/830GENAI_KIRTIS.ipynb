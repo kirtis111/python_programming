{
 "cells": [
  {
   "cell_type": "code",
   "execution_count": 3,
   "id": "edfda543-b7e1-4c6c-8d3a-9c9f56ca5ec4",
   "metadata": {},
   "outputs": [
    {
     "data": {
      "text/plain": [
       "'3.12.7 | packaged by Anaconda, Inc. | (main, Oct  4 2024, 13:17:27) [MSC v.1929 64 bit (AMD64)]'"
      ]
     },
     "execution_count": 3,
     "metadata": {},
     "output_type": "execute_result"
    }
   ],
   "source": [
    "import sys\n",
    "sys.version"
   ]
  },
  {
   "cell_type": "markdown",
   "id": "5a387eeb-e6a0-4e47-a93b-cb46a82200df",
   "metadata": {},
   "source": [
    "# 8:30 AM IST - BASIC PYTHON PROGRAMMING"
   ]
  },
  {
   "cell_type": "markdown",
   "id": "0ac84a35-5f23-413a-b6c9-ee760ed59577",
   "metadata": {},
   "source": [
    "# Work with Numbers"
   ]
  },
  {
   "cell_type": "code",
   "execution_count": 3,
   "id": "54a62cfd-48b3-4dc9-9708-390d3b040aba",
   "metadata": {},
   "outputs": [
    {
     "data": {
      "text/plain": [
       "5"
      ]
     },
     "execution_count": 3,
     "metadata": {},
     "output_type": "execute_result"
    }
   ],
   "source": [
    "2+3"
   ]
  },
  {
   "cell_type": "code",
   "execution_count": 5,
   "id": "33bef255-e61e-489d-9b81-177c195c9b5d",
   "metadata": {},
   "outputs": [
    {
     "data": {
      "text/plain": [
       "2"
      ]
     },
     "execution_count": 5,
     "metadata": {},
     "output_type": "execute_result"
    }
   ],
   "source": [
    "2"
   ]
  },
  {
   "cell_type": "code",
   "execution_count": 9,
   "id": "78ca8eba-0c73-4418-8dba-4849c74ca6ad",
   "metadata": {},
   "outputs": [
    {
     "data": {
      "text/plain": [
       "1"
      ]
     },
     "execution_count": 9,
     "metadata": {},
     "output_type": "execute_result"
    }
   ],
   "source": [
    "3-2"
   ]
  },
  {
   "cell_type": "code",
   "execution_count": 1,
   "id": "274827b9-5d02-46df-a03d-f9a6f8aece90",
   "metadata": {},
   "outputs": [
    {
     "data": {
      "text/plain": [
       "10"
      ]
     },
     "execution_count": 1,
     "metadata": {},
     "output_type": "execute_result"
    }
   ],
   "source": [
    "5*2"
   ]
  },
  {
   "cell_type": "code",
   "execution_count": 3,
   "id": "f6044e9b-7d4b-4e4e-b98e-a9b949d2bb5c",
   "metadata": {},
   "outputs": [
    {
     "data": {
      "text/plain": [
       "9"
      ]
     },
     "execution_count": 3,
     "metadata": {},
     "output_type": "execute_result"
    }
   ],
   "source": [
    "3**2"
   ]
  },
  {
   "cell_type": "code",
   "execution_count": 5,
   "id": "50737c2f-d7eb-4cd2-9464-744fc236f06c",
   "metadata": {},
   "outputs": [
    {
     "data": {
      "text/plain": [
       "2.0"
      ]
     },
     "execution_count": 5,
     "metadata": {},
     "output_type": "execute_result"
    }
   ],
   "source": [
    "10/5"
   ]
  },
  {
   "cell_type": "code",
   "execution_count": 7,
   "id": "726702ac-a709-4701-b066-be26ec4a2f72",
   "metadata": {},
   "outputs": [
    {
     "data": {
      "text/plain": [
       "2"
      ]
     },
     "execution_count": 7,
     "metadata": {},
     "output_type": "execute_result"
    }
   ],
   "source": [
    "10//5"
   ]
  },
  {
   "cell_type": "markdown",
   "id": "dc71c5c4-960d-4e4c-82ce-26fa8f8e8997",
   "metadata": {},
   "source": [
    "# Work With STRING"
   ]
  },
  {
   "cell_type": "code",
   "execution_count": 11,
   "id": "996134e7-9f1e-4210-a8f7-00673ac7066a",
   "metadata": {},
   "outputs": [
    {
     "data": {
      "text/plain": [
       "'Thank You Universe'"
      ]
     },
     "execution_count": 11,
     "metadata": {},
     "output_type": "execute_result"
    }
   ],
   "source": [
    "'Thank You Universe'"
   ]
  },
  {
   "cell_type": "code",
   "execution_count": 17,
   "id": "383e7e6c-ecb0-448b-bc87-a620480717e0",
   "metadata": {},
   "outputs": [
    {
     "data": {
      "text/plain": [
       "'Thank You Universe'"
      ]
     },
     "execution_count": 17,
     "metadata": {},
     "output_type": "execute_result"
    }
   ],
   "source": [
    "\"Thank You Universe\""
   ]
  },
  {
   "cell_type": "code",
   "execution_count": 19,
   "id": "82017b63-072a-4636-82a2-0727fc7c933f",
   "metadata": {},
   "outputs": [
    {
     "data": {
      "text/plain": [
       "'Thank You Universe'"
      ]
     },
     "execution_count": 19,
     "metadata": {},
     "output_type": "execute_result"
    }
   ],
   "source": [
    "'''Thank You Universe'''"
   ]
  },
  {
   "cell_type": "markdown",
   "id": "10a020de-9115-43ee-9b7a-12142d41e98b",
   "metadata": {},
   "source": [
    "# Variable = Object"
   ]
  },
  {
   "cell_type": "code",
   "execution_count": 27,
   "id": "e025ac43-2e16-4e0a-9b52-b9ec06e386f6",
   "metadata": {},
   "outputs": [
    {
     "data": {
      "text/plain": [
       "5"
      ]
     },
     "execution_count": 27,
     "metadata": {},
     "output_type": "execute_result"
    }
   ],
   "source": [
    "v=5 # v=variable, 5 =value\n",
    "v"
   ]
  },
  {
   "cell_type": "code",
   "execution_count": 29,
   "id": "89f22c1c-5d53-417b-bc6b-c4876d46da52",
   "metadata": {},
   "outputs": [
    {
     "data": {
      "text/plain": [
       "int"
      ]
     },
     "execution_count": 29,
     "metadata": {},
     "output_type": "execute_result"
    }
   ],
   "source": [
    "type(v)"
   ]
  },
  {
   "cell_type": "code",
   "execution_count": 31,
   "id": "1d8b4e8b-8990-4174-8b70-68434500fc05",
   "metadata": {},
   "outputs": [],
   "source": [
    "v1=5"
   ]
  },
  {
   "cell_type": "code",
   "execution_count": 33,
   "id": "493c435b-e8c1-4f14-aeb7-3ca5348f0549",
   "metadata": {},
   "outputs": [
    {
     "data": {
      "text/plain": [
       "5"
      ]
     },
     "execution_count": 33,
     "metadata": {},
     "output_type": "execute_result"
    }
   ],
   "source": [
    "v1"
   ]
  },
  {
   "cell_type": "code",
   "execution_count": 41,
   "id": "af9bb92f-3b1f-4af6-b910-6bbb66246554",
   "metadata": {},
   "outputs": [
    {
     "data": {
      "text/plain": [
       "'nit'"
      ]
     },
     "execution_count": 41,
     "metadata": {},
     "output_type": "execute_result"
    }
   ],
   "source": [
    "v1='nit'\n",
    "v1 #Calling V1 "
   ]
  },
  {
   "cell_type": "code",
   "execution_count": 45,
   "id": "49bc53b8-022c-4233-9e78-7962239e8b0c",
   "metadata": {},
   "outputs": [
    {
     "ename": "NameError",
     "evalue": "name 'v2' is not defined",
     "output_type": "error",
     "traceback": [
      "\u001b[1;31m---------------------------------------------------------------------------\u001b[0m",
      "\u001b[1;31mNameError\u001b[0m                                 Traceback (most recent call last)",
      "Cell \u001b[1;32mIn[45], line 2\u001b[0m\n\u001b[0;32m      1\u001b[0m v1\u001b[38;5;241m=\u001b[39m\u001b[38;5;124m'\u001b[39m\u001b[38;5;124mnit\u001b[39m\u001b[38;5;124m'\u001b[39m\n\u001b[1;32m----> 2\u001b[0m v2\n",
      "\u001b[1;31mNameError\u001b[0m: name 'v2' is not defined"
     ]
    }
   ],
   "source": [
    "v1='nit'\n",
    "v2 #test to check how system responds"
   ]
  },
  {
   "cell_type": "code",
   "execution_count": null,
   "id": "5c6246fe-01aa-49a4-b86e-747bcfef0675",
   "metadata": {},
   "outputs": [],
   "source": []
  }
 ],
 "metadata": {
  "kernelspec": {
   "display_name": "Python [conda env:base] *",
   "language": "python",
   "name": "conda-base-py"
  },
  "language_info": {
   "codemirror_mode": {
    "name": "ipython",
    "version": 3
   },
   "file_extension": ".py",
   "mimetype": "text/x-python",
   "name": "python",
   "nbconvert_exporter": "python",
   "pygments_lexer": "ipython3",
   "version": "3.12.7"
  }
 },
 "nbformat": 4,
 "nbformat_minor": 5
}
